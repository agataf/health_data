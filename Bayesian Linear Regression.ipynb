{
 "cells": [
  {
   "cell_type": "code",
   "execution_count": 1,
   "metadata": {
    "collapsed": true
   },
   "outputs": [],
   "source": [
    "import numpy as np\n",
    "import pandas as pd\n",
    "from scipy import stats\n",
    "from sklearn.linear_model import BayesianRidge, LinearRegression"
   ]
  },
  {
   "cell_type": "code",
   "execution_count": 2,
   "metadata": {
    "collapsed": false
   },
   "outputs": [],
   "source": [
    "# Load Data\n",
    "data = pd.read_csv('Key_indicator_districtwise.csv')"
   ]
  },
  {
   "cell_type": "code",
   "execution_count": 3,
   "metadata": {
    "collapsed": true
   },
   "outputs": [],
   "source": [
    "features = data.columns"
   ]
  },
  {
   "cell_type": "code",
   "execution_count": 4,
   "metadata": {
    "collapsed": false
   },
   "outputs": [],
   "source": [
    "y_labels = ['YY_Infant_Mortality_Rate_Imr_Total_Person']\n",
    "y = data[y_labels].values"
   ]
  },
  {
   "cell_type": "code",
   "execution_count": 5,
   "metadata": {
    "collapsed": false
   },
   "outputs": [],
   "source": [
    "x_raw = data.values\n",
    "x_raw2 = np.delete(x_raw,590,1)\n",
    "x_raw_labels = features.delete(590)\n"
   ]
  },
  {
   "cell_type": "code",
   "execution_count": 6,
   "metadata": {
    "collapsed": false
   },
   "outputs": [],
   "source": [
    "x1 = x_raw2.copy()\n",
    "x_raw_labels1 = x_raw_labels.copy()\n",
    "\n",
    "for i in range(17,0,-3):\n",
    "    x1[:, i+1] = x1[:, i+1]/x1[:, i]\n",
    "    x1[:, i+2] = x1[:, i+2]/x1[:, i]\n",
    "    x1 = np.delete(x1, obj=i, axis=1)\n",
    "    x_raw_labels1 = np.delete(x_raw_labels1, obj=1)"
   ]
  },
  {
   "cell_type": "code",
   "execution_count": 7,
   "metadata": {
    "collapsed": true
   },
   "outputs": [],
   "source": [
    "# make state and district categorical variables\n",
    "states = pd.get_dummies(x_raw[:,0])\n",
    "dists = pd.get_dummies(x_raw[:,1])\n",
    "state_cols = states.columns\n",
    "dists_cols = dists.columns\n",
    "new_cols = np.append(state_cols, dists_cols)\n",
    "new_vars = np.append(states, dists, axis=1)\n",
    "# then append\n",
    "x1 = np.delete(x1, obj=1, axis=1)\n",
    "x1 = np.delete(x1, obj=0, axis=1)\n",
    "x_raw_labels1 = np.delete(x_raw_labels1, obj=1)\n",
    "x_raw_labels1 = np.delete(x_raw_labels1, obj=0)"
   ]
  },
  {
   "cell_type": "code",
   "execution_count": null,
   "metadata": {
    "collapsed": true
   },
   "outputs": [],
   "source": []
  },
  {
   "cell_type": "code",
   "execution_count": 8,
   "metadata": {
    "collapsed": false
   },
   "outputs": [],
   "source": [
    "x_raw_labels1 = np.append(new_cols, x_raw_labels1)\n",
    "x_new = np.append(new_vars, x1, axis=1)"
   ]
  },
  {
   "cell_type": "code",
   "execution_count": 9,
   "metadata": {
    "collapsed": true
   },
   "outputs": [],
   "source": [
    "#x = x_raw2[:,6:]\n",
    "x = x_new\n",
    "x_labels = x_raw_labels1\n",
    "# rows 6 to T, make a percentage"
   ]
  },
  {
   "cell_type": "code",
   "execution_count": 10,
   "metadata": {
    "collapsed": false
   },
   "outputs": [],
   "source": [
    "# Remove NaNs (impute)\n",
    "z = np.zeros(x.shape[1])\n",
    "for i in range(0,x.shape[0]):\n",
    "    for j in range(0,x.shape[1]):\n",
    "        z[j] += np.isnan(x[i,j])"
   ]
  },
  {
   "cell_type": "code",
   "execution_count": 11,
   "metadata": {
    "collapsed": false
   },
   "outputs": [
    {
     "name": "stdout",
     "output_type": "stream",
     "text": [
      "(928,)\n",
      "(284, 928)\n",
      "(928,)\n"
     ]
    }
   ],
   "source": [
    "print(z.shape)\n",
    "print(x.shape)\n",
    "print(x_labels.shape)\n",
    "x_no_nans = x[:,z == 0]\n",
    "x_no_nans_labels = x_labels[z == 0]"
   ]
  },
  {
   "cell_type": "code",
   "execution_count": 12,
   "metadata": {
    "collapsed": false
   },
   "outputs": [
    {
     "name": "stderr",
     "output_type": "stream",
     "text": [
      "//anaconda/lib/python3.5/site-packages/sklearn/utils/validation.py:547: DataConversionWarning: A column-vector y was passed when a 1d array was expected. Please change the shape of y to (n_samples, ), for example using ravel().\n",
      "  y = column_or_1d(y, warn=True)\n"
     ]
    },
    {
     "data": {
      "text/plain": [
       "LinearRegression(copy_X=True, fit_intercept=True, n_jobs=1, normalize=False)"
      ]
     },
     "execution_count": 12,
     "metadata": {},
     "output_type": "execute_result"
    }
   ],
   "source": [
    "clf = BayesianRidge(compute_score=True)\n",
    "clf.fit(x_no_nans, y)\n",
    "\n",
    "ols = LinearRegression()\n",
    "ols.fit(x_no_nans, y)"
   ]
  },
  {
   "cell_type": "code",
   "execution_count": 13,
   "metadata": {
    "collapsed": false
   },
   "outputs": [],
   "source": [
    "bayesian_coefs = clf.coef_"
   ]
  },
  {
   "cell_type": "code",
   "execution_count": 14,
   "metadata": {
    "collapsed": false
   },
   "outputs": [],
   "source": [
    "sorted_coefs = np.sort(np.abs(bayesian_coefs))\n",
    "sorted_indices = np.argsort(np.abs(bayesian_coefs))\n",
    "sorted_labels = x_no_nans_labels[sorted_indices]"
   ]
  },
  {
   "cell_type": "code",
   "execution_count": 15,
   "metadata": {
    "collapsed": false
   },
   "outputs": [
    {
     "data": {
      "text/plain": [
       "array([['Assam', 'Barpeta', 53, ..., 965, 908.0, 1611.0],\n",
       "       ['Assam', 'Bongaigaon', 89, ..., 1026, 621.0, 956.0],\n",
       "       ['Assam', 'Cachar', 105, ..., 949, 905.0, 1168.0],\n",
       "       ..., \n",
       "       ['Uttarakhand', 'Tehri Garhwal', 351, ..., 918, 667.0, 842.0],\n",
       "       ['Uttarakhand', 'Udham Singh Nagar', 81, ..., 978, 710.0, 879.0],\n",
       "       ['Uttarakhand', 'Uttarkashi', 98, ..., 991, 610.0, 989.0]], dtype=object)"
      ]
     },
     "execution_count": 15,
     "metadata": {},
     "output_type": "execute_result"
    }
   ],
   "source": [
    "x_raw"
   ]
  },
  {
   "cell_type": "code",
   "execution_count": 16,
   "metadata": {
    "collapsed": false
   },
   "outputs": [
    {
     "data": {
      "text/plain": [
       "array(['FF_Children_Attended_Before_Drop_Out_Age_6_17_Years_Male_Total',\n",
       "       'TT_Children_Who_Have_Received_Polio_Dose_At_Birth_Rural',\n",
       "       'QQ_Delivery_At_Home_Total',\n",
       "       'XX_Women_Who_Are_Aware_Of_Danger_Signs_Of_Ari_Pneumonia_Rural',\n",
       "       'LL_Median_Age_At_First_Live_Birth_Of_Women_Aged_25_49_Years_Rural',\n",
       "       'FF_Children_Attended_Before_Drop_Out_Age_6_17_Years_Person_Total',\n",
       "       'VV_Children_Who_Received_Foods_Other_Than_Breast_Milk_During_First_6_Months_Semi_Solid_Mashed_Food_Rural',\n",
       "       'YY_Under_Five_Mortality_Rate_U5MR_Total_Person',\n",
       "       'XX_Women_Who_Are_Aware_Of_Hiv_Aids_Total',\n",
       "       'KK_Having_Diagnosed_For_Chronic_Illness_Per_100000_Population_Hypertension_Person_Total',\n",
       "       'GG_Work_Participation_Rate_15_Years_And_Above_Person_Rural',\n",
       "       'GG_Work_Participation_Rate_15_Years_And_Above_Female_Rural',\n",
       "       'UU_Children_Suffering_From_Fever_Who_Sought_Treatment_Total',\n",
       "       'VV_Children_Who_Received_Foods_Other_Than_Breast_Milk_During_First_6_Months_Semi_Solid_Mashed_Food_Total',\n",
       "       'XX_Women_Who_Are_Aware_Of_Hiv_Aids_Rural',\n",
       "       'HH_Prevalence_Of_Any_Type_Of_Disability_Per_100000_Population_Person_Rural',\n",
       "       'TT_Children_Aged_6_35_Months_Who_Received_At_Least_One_Vitamin_A_Dose_During_Last_Six_Months_Total',\n",
       "       'II_Number_Of_Injured_Persons_By_Type_Of_Treatment_Received_Per_100000_Population_Minor_Person_Total',\n",
       "       'WW_Birth_Registered_Total',\n",
       "       'MM_Women_Who_Received_Any_Anc_Before_Abortion_Total',\n",
       "       'BB_Population_Below_Age_15_Years_Total',\n",
       "       'BB_Currently_Married_Illiterate_Women_Aged_15_49_Years_Urban',\n",
       "       'BB_Average_Household_Size_St_Rural',\n",
       "       'LL_Mean_Number_Of_Children_Ever_Born_To_Women_Aged_45_49_Years_Total',\n",
       "       'TT_Children_Aged_12_23_Months_Who_Have_Received_3_Doses_Of_Dpt_Vaccine_Rural',\n",
       "       'LL_Mean_Number_Of_Children_Ever_Born_To_Women_Aged_45_49_Years_Rural',\n",
       "       'VV_Average_Month_By_Which_Children_Received_Foods_Other_Than_Breast_Milk_Vegetables_Fruits_Total',\n",
       "       'RR_Mothers_Who_Received_Post_Natal_Check_Up_Within_48_Hrs_Of_Delivery_Rural',\n",
       "       'NN_Current_Usage_Any_Modern_Method_Rural',\n",
       "       'ZZ_Sex_Ratio_At_Birth_Total_Lower_Limit',\n",
       "       'PP_Currently_Married_Pregnant_Women_Aged_15_49_Years_Registered_For_Anc_Total',\n",
       "       'II_Number_Of_Injured_Persons_By_Type_Of_Treatment_Received_Per_100000_Population_Severe_Person_Rural',\n",
       "       'VV_Average_Month_By_Which_Children_Received_Foods_Other_Than_Breast_Milk_Vegetables_Fruits_Rural',\n",
       "       'QQ_Delivery_At_Government_Institution_Rural',\n",
       "       'PP_Mothers_Who_Received_At_Least_One_Tetanus_Toxoid_Tt_Injection_Total',\n",
       "       'GG_Children_Aged_5_14_Years_Engaged_In_Work_Female_Total',\n",
       "       'BB_Dependency_Ratio_Total',\n",
       "       'FF_Children_Attended_Before_Drop_Out_Age_6_17_Years_Person_Rural',\n",
       "       'EE_Currently_Married_Women_Aged_20_24_Years_Married_Before_Legal_Age_18_Years_Rural',\n",
       "       'RR_New_Borns_Who_Were_Checked_Up_Within_24_Hrs_Of_Birth_Total',\n",
       "       'QQ_Caesarean_Out_Of_Total_Delivery_Taken_Place_In_Government_Institutions_Total',\n",
       "       'MM_Abortion_Performed_By_Skilled_Health_Personnel_Total',\n",
       "       'SS_Mothers_Who_Availed_Financial_Assistance_For_Delivery_Under_Jsy_Rural',\n",
       "       'QQ_Delivery_At_Government_Institution_Total',\n",
       "       'GG_Children_Aged_5_14_Years_Engaged_In_Work_Female_Rural',\n",
       "       'QQ_Safe_Delivery_Total',\n",
       "       'FF_Children_Attended_Before_Drop_Out_Age_6_17_Years_Male_Rural',\n",
       "       'OO_Total_Unmet_Need_Total', 'BB_Dependency_Ratio_Rural',\n",
       "       'PP_Mothers_Whose_Blood_Pressure_Bp_Taken_Total',\n",
       "       'QQ_Delivery_At_Private_Institution_Total',\n",
       "       'NN_Current_Usage_Condom_Nirodh_Rural',\n",
       "       'EE_Marriages_Among_Females_Below_Legal_Age_18_Years_Total',\n",
       "       'TT_Children_Who_Did_Not_Receive_Any_Vaccination_Total',\n",
       "       'GG_Children_Aged_5_14_Years_Engaged_In_Work_Male_Rural',\n",
       "       'VV_Children_Who_Received_Foods_Other_Than_Breast_Milk_During_First_6_Months_Vegetables_Fruits_Total',\n",
       "       'BB_Population_Below_Age_15_Years_Urban',\n",
       "       'QQ_Caesarean_Out_Of_Total_Delivery_Taken_Place_In_Government_Institutions_Rural',\n",
       "       'YY_Under_Five_Mortality_Rate_U5MR_Rural_Male',\n",
       "       'UU_Children_Suffering_From_Acute_Respiratory_Infection_Who_Sought_Treatment_Total',\n",
       "       'FF_Children_Currently_Attending_School_Age_6_17_Years_Female_Total',\n",
       "       'TT_Children_Aged_6_35_Months_Who_Received_At_Least_One_Vitamin_A_Dose_During_Last_Six_Months_Rural',\n",
       "       'TT_Children_Aged_12_23_Months_Who_Have_Received_Bcg_Total',\n",
       "       'NN_Current_Usage_Copper_T_Iud_Total',\n",
       "       'JJ_Persons_Suffering_From_Acute_Illness_Per_100000_Population_Diarrhoea_Dysentery_Person_Rural',\n",
       "       'NN_Current_Usage_Copper_T_Iud_Rural',\n",
       "       'LL_Women_With_Two_Children_Wanting_No_More_Children_Total',\n",
       "       'FF_Children_Currently_Attending_School_Age_6_17_Years_Female_Rural',\n",
       "       'YY_Infant_Mortality_Rate_Imr_Rural_Female',\n",
       "       'YY_Under_Five_Mortality_Rate_U5MR_Rural_Female',\n",
       "       'KK_Having_Diagnosed_For_Chronic_Illness_Per_100000_Population_Diabetes_Person_Total',\n",
       "       'QQ_Caesarean_Out_Of_Total_Delivery_Taken_Place_In_Private_Institutions_Total',\n",
       "       'ZZ_Under_Five_Mortality_Rate_U5MR_Rural_Lower_Limit',\n",
       "       'TT_Children_Aged_6_35_Months_Who_Received_Ifa_Tablets_Syrup_During_Last_3_Months_Rural',\n",
       "       'PP_Currently_Married_Pregnant_Women_Aged_15_49_Years_Registered_For_Anc_Rural',\n",
       "       'QQ_Caesarean_Out_Of_Total_Delivery_Taken_Place_In_Private_Institutions_Rural',\n",
       "       'LL_Live_Births_Taking_Place_After_An_Interval_Of_36_Months_Rural',\n",
       "       'TT_Children_Aged_12_23_Months_Having_Immunization_Card_Total',\n",
       "       'QQ_Delivery_At_Home_Conducted_By_Skilled_Health_Personnel_Total',\n",
       "       'VV_Children_Who_Received_Foods_Other_Than_Breast_Milk_During_First_6_Months_Solid_Adult_Food_Rural',\n",
       "       'PP_Mothers_Who_Underwent_Ultrasound_Total',\n",
       "       'YY_Under_Five_Mortality_Rate_U5MR_Total_Male',\n",
       "       'YY_Infant_Mortality_Rate_Imr_Rural_Person',\n",
       "       'YY_Under_Five_Mortality_Rate_U5MR_Rural_Person',\n",
       "       'ZZ_Infant_Mortality_Rate_Rural_Upper_Limit',\n",
       "       'TT_Children_Aged_12_23_Months_Who_Have_Received_Bcg_Rural',\n",
       "       'ZZ_Under_Five_Mortality_Rate_U5MR_Total_Upper_Limit',\n",
       "       'ZZ_Under_Five_Mortality_Rate_U5MR_Rural_Upper_Limit',\n",
       "       'QQ_Delivery_At_Home_Conducted_By_Skilled_Health_Personnel_Rural',\n",
       "       'YY_Post_Neo_Natal_Mortality_Rate_Rural',\n",
       "       'ZZ_Under_Five_Mortality_Rate_U5MR_Total_Lower_Limit',\n",
       "       'YY_Under_Five_Mortality_Rate_U5MR_Total_Female',\n",
       "       'YY_Infant_Mortality_Rate_Imr_Rural_Male',\n",
       "       'ZZ_Infant_Mortality_Rate_Rural_Lower_Limit',\n",
       "       'YY_Post_Neo_Natal_Mortality_Rate_Total',\n",
       "       'YY_Neo_Natal_Mortality_Rate_Total',\n",
       "       'ZZ_Infant_Mortality_Rate_Total_Lower_Limit',\n",
       "       'YY_Infant_Mortality_Rate_Imr_Total_Female',\n",
       "       'YY_Infant_Mortality_Rate_Imr_Total_Male',\n",
       "       'ZZ_Infant_Mortality_Rate_Total_Upper_Limit'], dtype=object)"
      ]
     },
     "execution_count": 16,
     "metadata": {},
     "output_type": "execute_result"
    }
   ],
   "source": [
    "sorted_labels[-100:]"
   ]
  },
  {
   "cell_type": "code",
   "execution_count": null,
   "metadata": {
    "collapsed": true
   },
   "outputs": [],
   "source": []
  }
 ],
 "metadata": {
  "kernelspec": {
   "display_name": "Python [Root]",
   "language": "python",
   "name": "Python [Root]"
  },
  "language_info": {
   "codemirror_mode": {
    "name": "ipython",
    "version": 3
   },
   "file_extension": ".py",
   "mimetype": "text/x-python",
   "name": "python",
   "nbconvert_exporter": "python",
   "pygments_lexer": "ipython3",
   "version": "3.5.2"
  }
 },
 "nbformat": 4,
 "nbformat_minor": 2
}
