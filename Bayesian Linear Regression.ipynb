{
 "cells": [
  {
   "cell_type": "code",
   "execution_count": 1,
   "metadata": {
    "collapsed": true
   },
   "outputs": [],
   "source": [
    "import numpy as np\n",
    "import pandas as pd\n",
    "from scipy import stats\n",
    "from sklearn.linear_model import BayesianRidge, LinearRegression\n"
   ]
  },
  {
   "cell_type": "code",
   "execution_count": 2,
   "metadata": {
    "collapsed": false
   },
   "outputs": [],
   "source": [
    "# Load Data\n",
    "data = pd.read_csv('Key_indicator_districtwise.csv')\n",
    "features = data.columns\n",
    "y_labels = ['YY_Infant_Mortality_Rate_Imr_Total_Person']\n",
    "y = data[y_labels].values\n",
    "x_raw = data.values\n",
    "x_raw2 = np.delete(x_raw,590,1)\n",
    "x_raw_labels = features.delete(590)\n",
    "x1 = x_raw2.copy()\n",
    "x_raw_labels1 = x_raw_labels.copy()\n",
    "\n",
    "for i in range(17,0,-3):\n",
    "    x1[:, i+1] = x1[:, i+1]/x1[:, i]\n",
    "    x1[:, i+2] = x1[:, i+2]/x1[:, i]\n",
    "    x1 = np.delete(x1, obj=i, axis=1)\n",
    "    x_raw_labels1 = np.delete(x_raw_labels1, obj=1)"
   ]
  },
  {
   "cell_type": "code",
   "execution_count": 10,
   "metadata": {
    "collapsed": true
   },
   "outputs": [],
   "source": [
    "# make state and district categorical variables\n",
    "states = pd.get_dummies(x_raw[:,0])\n",
    "dists = pd.get_dummies(x_raw[:,1])\n",
    "state_cols = states.columns\n",
    "dists_cols = dists.columns\n",
    "new_cols = np.append(state_cols, dists_cols)\n",
    "new_vars = np.append(states, dists, axis=1)\n",
    "# then append\n",
    "x1 = np.delete(x1, obj=1, axis=1)\n",
    "x1 = np.delete(x1, obj=0, axis=1)\n",
    "x_raw_labels1 = np.delete(x_raw_labels1, obj=1)\n",
    "x_raw_labels1 = np.delete(x_raw_labels1, obj=0)\n",
    "\n",
    "#x_raw_labels1 = np.append(new_cols, x_raw_labels1)\n",
    "#x_new = np.append(new_vars, x1, axis=1)\n",
    "#x = x_new\n",
    "#x_labels = x_raw_labels1\n",
    "x = x1\n",
    "x_labels = x_raw_labels1"
   ]
  },
  {
   "cell_type": "code",
   "execution_count": 12,
   "metadata": {
    "collapsed": false
   },
   "outputs": [],
   "source": [
    "# Remove NaNs (impute)\n",
    "z = np.zeros(x.shape[1])\n",
    "for i in range(0,x.shape[0]):\n",
    "    for j in range(0,x.shape[1]):\n",
    "        z[j] += np.isnan(x[i,j])"
   ]
  },
  {
   "cell_type": "code",
   "execution_count": 13,
   "metadata": {
    "collapsed": false
   },
   "outputs": [
    {
     "name": "stdout",
     "output_type": "stream",
     "text": [
      "(633,)\n",
      "(284, 633)\n",
      "(633,)\n"
     ]
    }
   ],
   "source": [
    "print(z.shape)\n",
    "print(x.shape)\n",
    "print(x_labels.shape)\n",
    "x_no_nans = x[:,z == 0]\n",
    "x_no_nans_labels = x_labels[z == 0]"
   ]
  },
  {
   "cell_type": "code",
   "execution_count": 14,
   "metadata": {
    "collapsed": false
   },
   "outputs": [
    {
     "name": "stderr",
     "output_type": "stream",
     "text": [
      "//anaconda/lib/python3.5/site-packages/sklearn/utils/validation.py:547: DataConversionWarning: A column-vector y was passed when a 1d array was expected. Please change the shape of y to (n_samples, ), for example using ravel().\n",
      "  y = column_or_1d(y, warn=True)\n"
     ]
    },
    {
     "data": {
      "text/plain": [
       "LinearRegression(copy_X=True, fit_intercept=True, n_jobs=1, normalize=True)"
      ]
     },
     "execution_count": 14,
     "metadata": {},
     "output_type": "execute_result"
    }
   ],
   "source": [
    "clf = BayesianRidge(compute_score=True, normalize=True)\n",
    "clf.fit(x_no_nans, y)\n",
    "\n",
    "ols = LinearRegression(normalize=True)\n",
    "ols.fit(x_no_nans, y)"
   ]
  },
  {
   "cell_type": "code",
   "execution_count": 15,
   "metadata": {
    "collapsed": false
   },
   "outputs": [],
   "source": [
    "bayesian_coefs = clf.coef_"
   ]
  },
  {
   "cell_type": "code",
   "execution_count": 16,
   "metadata": {
    "collapsed": false
   },
   "outputs": [],
   "source": [
    "sorted_coefs = np.sort(np.abs(bayesian_coefs))\n",
    "sorted_indices = np.argsort(np.abs(bayesian_coefs))\n",
    "sorted_labels = x_no_nans_labels[sorted_indices]"
   ]
  },
  {
   "cell_type": "code",
   "execution_count": null,
   "metadata": {
    "collapsed": false
   },
   "outputs": [],
   "source": [
    "sorted_labels[-100:]"
   ]
  },
  {
   "cell_type": "code",
   "execution_count": null,
   "metadata": {
    "collapsed": true
   },
   "outputs": [],
   "source": []
  }
 ],
 "metadata": {
  "anaconda-cloud": {},
  "kernelspec": {
   "display_name": "Python [Root]",
   "language": "python",
   "name": "Python [Root]"
  },
  "language_info": {
   "codemirror_mode": {
    "name": "ipython",
    "version": 3
   },
   "file_extension": ".py",
   "mimetype": "text/x-python",
   "name": "python",
   "nbconvert_exporter": "python",
   "pygments_lexer": "ipython3",
   "version": "3.5.2"
  }
 },
 "nbformat": 4,
 "nbformat_minor": 2
}
