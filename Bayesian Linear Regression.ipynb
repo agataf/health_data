{
 "cells": [
  {
   "cell_type": "code",
   "execution_count": 3,
   "metadata": {
    "collapsed": true
   },
   "outputs": [],
   "source": [
    "import numpy as np\n",
    "import pandas as pd\n",
    "from scipy import stats\n",
    "from sklearn.linear_model import BayesianRidge, LinearRegression\n"
   ]
  },
  {
   "cell_type": "code",
   "execution_count": 4,
   "metadata": {
    "collapsed": false
   },
   "outputs": [],
   "source": [
    "# Load Data\n",
    "data = pd.read_csv('Key_indicator_districtwise.csv')\n",
    "features = data.columns\n",
    "y_labels = ['YY_Infant_Mortality_Rate_Imr_Total_Person']\n",
    "y = data[y_labels].values\n",
    "x_raw = data.values\n",
    "x_raw2 = np.delete(x_raw,590,1)\n",
    "x_raw_labels = features.delete(590)\n",
    "x1 = x_raw2.copy()\n",
    "x_raw_labels1 = x_raw_labels.copy()\n",
    "\n",
    "for i in range(17,0,-3):\n",
    "    x1[:, i+1] = x1[:, i+1]/x1[:, i]\n",
    "    x1[:, i+2] = x1[:, i+2]/x1[:, i]\n",
    "    x1 = np.delete(x1, obj=i, axis=1)\n",
    "    x_raw_labels1 = np.delete(x_raw_labels1, obj=1)"
   ]
  },
  {
   "cell_type": "code",
   "execution_count": 5,
   "metadata": {
    "collapsed": true
   },
   "outputs": [],
   "source": [
    "# make state and district categorical variables\n",
    "states = pd.get_dummies(x_raw[:,0])\n",
    "dists = pd.get_dummies(x_raw[:,1])\n",
    "state_cols = states.columns\n",
    "dists_cols = dists.columns\n",
    "new_cols = np.append(state_cols, dists_cols)\n",
    "new_vars = np.append(states, dists, axis=1)\n",
    "# then append\n",
    "x1 = np.delete(x1, obj=1, axis=1)\n",
    "x1 = np.delete(x1, obj=0, axis=1)\n",
    "x_raw_labels1 = np.delete(x_raw_labels1, obj=1)\n",
    "x_raw_labels1 = np.delete(x_raw_labels1, obj=0)\n",
    "\n",
    "#x_raw_labels1 = np.append(new_cols, x_raw_labels1)\n",
    "#x_new = np.append(new_vars, x1, axis=1)\n",
    "#x = x_new\n",
    "#x_labels = x_raw_labels1\n",
    "x = x1\n",
    "x_labels = x_raw_labels1"
   ]
  },
  {
   "cell_type": "code",
   "execution_count": 6,
   "metadata": {
    "collapsed": false
   },
   "outputs": [],
   "source": [
    "# Remove NaNs (impute)\n",
    "z = np.zeros(x.shape[1])\n",
    "for i in range(0,x.shape[0]):\n",
    "    for j in range(0,x.shape[1]):\n",
    "        z[j] += np.isnan(x[i,j])"
   ]
  },
  {
   "cell_type": "code",
   "execution_count": 7,
   "metadata": {
    "collapsed": false
   },
   "outputs": [
    {
     "name": "stdout",
     "output_type": "stream",
     "text": [
      "(635,)\n",
      "(284, 635)\n",
      "(635,)\n"
     ]
    }
   ],
   "source": [
    "print(z.shape)\n",
    "print(x.shape)\n",
    "print(x_labels.shape)\n",
    "x_no_nans = x[:,z == 0]\n",
    "x_no_nans_labels = x_labels[z == 0]"
   ]
  },
  {
   "cell_type": "code",
   "execution_count": 8,
   "metadata": {
    "collapsed": false
   },
   "outputs": [
    {
     "name": "stderr",
     "output_type": "stream",
     "text": [
      "/Users/mihirkulkarni/anaconda/lib/python2.7/site-packages/sklearn/utils/validation.py:515: DataConversionWarning: A column-vector y was passed when a 1d array was expected. Please change the shape of y to (n_samples, ), for example using ravel().\n",
      "  y = column_or_1d(y, warn=True)\n"
     ]
    },
    {
     "data": {
      "text/plain": [
       "LinearRegression(copy_X=True, fit_intercept=True, n_jobs=1, normalize=True)"
      ]
     },
     "execution_count": 8,
     "metadata": {},
     "output_type": "execute_result"
    }
   ],
   "source": [
    "clf = BayesianRidge(compute_score=True, normalize=True)\n",
    "clf.fit(x_no_nans, y)\n",
    "\n",
    "ols = LinearRegression(normalize=True)\n",
    "ols.fit(x_no_nans, y)"
   ]
  },
  {
   "cell_type": "code",
   "execution_count": 9,
   "metadata": {
    "collapsed": false
   },
   "outputs": [],
   "source": [
    "bayesian_coefs = clf.coef_"
   ]
  },
  {
   "cell_type": "code",
   "execution_count": 10,
   "metadata": {
    "collapsed": false
   },
   "outputs": [],
   "source": [
    "sorted_coefs = np.sort(np.abs(bayesian_coefs))\n",
    "sorted_indices = np.argsort(np.abs(bayesian_coefs))\n",
    "sorted_labels = x_no_nans_labels[sorted_indices]"
   ]
  },
  {
   "cell_type": "code",
   "execution_count": 11,
   "metadata": {
    "collapsed": false
   },
   "outputs": [
    {
     "data": {
      "text/plain": [
       "Index([u'YY_Under_Five_Mortality_Rate_U5MR_Rural_Person',\n",
       "       u'QQ_Caesarean_Out_Of_Total_Delivery_Taken_Place_In_Private_Institutions_Rural',\n",
       "       u'TT_Children_Aged_6_35_Months_Who_Received_Ifa_Tablets_Syrup_During_Last_3_Months_Rural',\n",
       "       u'ZZ_Under_Five_Mortality_Rate_U5MR_Total_Lower_Limit',\n",
       "       u'GG_Children_Aged_5_14_Years_Engaged_In_Work_Female_Total',\n",
       "       u'QQ_Delivery_At_Home_Conducted_By_Skilled_Health_Personnel_Rural',\n",
       "       u'QQ_Delivery_At_Private_Institution_Total',\n",
       "       u'YY_Infant_Mortality_Rate_Imr_Rural_Person',\n",
       "       u'ZZ_Under_Five_Mortality_Rate_U5MR_Total_Upper_Limit',\n",
       "       u'TT_Children_Who_Have_Received_Polio_Dose_At_Birth_Rural',\n",
       "       u'JJ_Persons_Suffering_From_Acute_Illness_And_Taking_Treatment_From_Any_Source_Female_Total',\n",
       "       u'FF_Children_Attended_Before_Drop_Out_Age_6_17_Years_Person_Total',\n",
       "       u'GG_Children_Aged_5_14_Years_Engaged_In_Work_Person_Rural',\n",
       "       u'NN_Current_Usage_Lam_Rural',\n",
       "       u'FF_Children_Currently_Attending_School_Age_6_17_Years_Female_Rural',\n",
       "       u'UU_Children_Suffering_From_Diarrhoea_Rural',\n",
       "       u'YY_Under_Five_Mortality_Rate_U5MR_Total_Female',\n",
       "       u'GG_Work_Participation_Rate_15_Years_And_Above_Person_Total',\n",
       "       u'TT_Children_Aged_12_23_Months_Who_Have_Received_Bcg_Rural',\n",
       "       u'ZZ_Infant_Mortality_Rate_Rural_Lower_Limit',\n",
       "       u'NN_Current_Usage_Copper_T_Iud_Rural',\n",
       "       u'PP_Mothers_Who_Received_Any_Antenatal_Check_Up_Rural',\n",
       "       u'UU_Children_Suffering_From_Diarrhoea_Total',\n",
       "       u'PP_Mothers_Who_Received_At_Least_One_Tetanus_Toxoid_Tt_Injection_Total',\n",
       "       u'BB_Average_Household_Size_All_Rural',\n",
       "       u'TT_Children_Who_Did_Not_Receive_Any_Vaccination_Rural',\n",
       "       u'MM_Pregnancy_To_Women_Aged_15_49_Years_Resulting_In_Abortion_Total',\n",
       "       u'YY_Infant_Mortality_Rate_Imr_Rural_Male',\n",
       "       u'NN_Current_Usage_Male_Sterilization_Rural',\n",
       "       u'ZZ_Crude_Birth_Rate_Rural_Upper_Limit',\n",
       "       u'FF_Children_Currently_Attending_School_Age_6_17_Years_Male_Total',\n",
       "       u'YY_Crude_Death_Rate_Cdr_Rural_Female',\n",
       "       u'NN_Current_Usage_Pills_Total', u'NN_Current_Usage_Withdrawal_Total',\n",
       "       u'YY_Crude_Death_Rate_Cdr_Rural_Person',\n",
       "       u'LL_Median_Age_At_First_Live_Birth_Of_Women_Aged_15_49_Years_Total',\n",
       "       u'NN_Current_Usage_Withdrawal_Rural',\n",
       "       u'BB_Population_Below_Age_15_Years_Total',\n",
       "       u'TT_Children_Who_Did_Not_Receive_Any_Vaccination_Total',\n",
       "       u'ZZ_Crude_Death_Rate_Total_Upper_Limit',\n",
       "       u'FF_Children_Attended_Before_Drop_Out_Age_6_17_Years_Female_Total',\n",
       "       u'VV_Children_Who_Received_Foods_Other_Than_Breast_Milk_During_First_6_Months_Vegetables_Fruits_Total',\n",
       "       u'VV_Children_Who_Received_Foods_Other_Than_Breast_Milk_During_First_6_Months_Solid_Adult_Food_Rural',\n",
       "       u'LL_Mean_Number_Of_Children_Ever_Born_To_Women_Aged_45_49_Years_Rural',\n",
       "       u'GG_Work_Participation_Rate_15_Years_And_Above_Male_Rural',\n",
       "       u'YY_Crude_Death_Rate_Cdr_Total_Male',\n",
       "       u'AA_Currently_Married_Women_Aged_15_49_Years_Total',\n",
       "       u'AA_Currently_Married_Women_Aged_15_49_Years_Rural',\n",
       "       u'GG_Children_Aged_5_14_Years_Engaged_In_Work_Female_Rural',\n",
       "       u'QQ_Caesarean_Out_Of_Total_Delivery_Taken_Place_In_Government_Institutions_Total',\n",
       "       u'LL_Median_Age_At_First_Live_Birth_Of_Women_Aged_15_49_Years_Rural',\n",
       "       u'GG_Work_Participation_Rate_15_Years_And_Above_Male_Total',\n",
       "       u'NN_Current_Usage_Male_Sterilization_Total',\n",
       "       u'QQ_Caesarean_Out_Of_Total_Delivery_Taken_Place_In_Government_Institutions_Rural',\n",
       "       u'NN_Current_Usage_Copper_T_Iud_Total',\n",
       "       u'GG_Children_Aged_5_14_Years_Engaged_In_Work_Male_Total',\n",
       "       u'YY_Crude_Death_Rate_Cdr_Rural_Male',\n",
       "       u'EE_Mean_Age_At_Marriage_Female_Rural',\n",
       "       u'BB_Average_Household_Size_St_Total',\n",
       "       u'BB_Average_Household_Size_All_Total',\n",
       "       u'VV_Average_Month_By_Which_Children_Received_Foods_Other_Than_Breast_Milk_Vegetables_Fruits_Total',\n",
       "       u'VV_Average_Month_By_Which_Children_Received_Foods_Other_Than_Breast_Milk_Water_Total',\n",
       "       u'ZZ_Crude_Death_Rate_Total_Lower_Limit',\n",
       "       u'BB_Average_Household_Size_Sc_Urban',\n",
       "       u'LL_Median_Age_At_First_Live_Birth_Of_Women_Aged_25_49_Years_Rural',\n",
       "       u'GG_Children_Aged_5_14_Years_Engaged_In_Work_Male_Rural',\n",
       "       u'BB_Average_Household_Size_All_Urban',\n",
       "       u'YY_Crude_Death_Rate_Cdr_Total_Female',\n",
       "       u'EE_Mean_Age_At_Marriage_Male_Total',\n",
       "       u'VV_Average_Month_By_Which_Children_Received_Foods_Other_Than_Breast_Milk_Solid_Adult_Food_Rural',\n",
       "       u'EE_Mean_Age_At_Marriage_Female_Total',\n",
       "       u'NN_Current_Usage_Emergency_Contraceptive_Pills_Total',\n",
       "       u'EE_Mean_Age_At_Marriage_Male_Rural',\n",
       "       u'BB_Average_Household_Size_St_Rural',\n",
       "       u'BB_Average_Household_Size_Sc_Total',\n",
       "       u'ZZ_Infant_Mortality_Rate_Total_Upper_Limit',\n",
       "       u'YY_Infant_Mortality_Rate_Imr_Total_Female',\n",
       "       u'VV_Average_Month_By_Which_Children_Received_Foods_Other_Than_Breast_Milk_Solid_Adult_Food_Total',\n",
       "       u'ZZ_Crude_Death_Rate_Rural_Lower_Limit',\n",
       "       u'LL_Mean_Number_Of_Children_Surviving_To_Women_Aged_15_49_Years_Total',\n",
       "       u'BB_Average_Household_Size_Sc_Rural',\n",
       "       u'YY_Infant_Mortality_Rate_Imr_Total_Male',\n",
       "       u'NN_Current_Usage_Emergency_Contraceptive_Pills_Rural',\n",
       "       u'ZZ_Infant_Mortality_Rate_Total_Lower_Limit',\n",
       "       u'LL_Median_Age_At_First_Live_Birth_Of_Women_Aged_25_49_Years_Total',\n",
       "       u'ZZ_Crude_Death_Rate_Rural_Upper_Limit',\n",
       "       u'LL_Mean_Number_Of_Children_Ever_Born_To_Women_Aged_45_49_Years_Total',\n",
       "       u'YY_Post_Neo_Natal_Mortality_Rate_Total',\n",
       "       u'VV_Average_Month_By_Which_Children_Received_Foods_Other_Than_Breast_Milk_Semi_Solid_Mashed_Food_Total',\n",
       "       u'YY_Neo_Natal_Mortality_Rate_Total',\n",
       "       u'MM_Average_Month_Of_Pregnancy_At_The_Time_Of_Abortion_Total',\n",
       "       u'VV_Average_Month_By_Which_Children_Received_Foods_Other_Than_Breast_Milk_Semi_Solid_Mashed_Food_Rural',\n",
       "       u'LL_Total_Fertility_Rate_Total',\n",
       "       u'MM_Average_Month_Of_Pregnancy_At_The_Time_Of_Abortion_Rural',\n",
       "       u'VV_Average_Month_By_Which_Children_Received_Foods_Other_Than_Breast_Milk_Animal_Formula_Milk_Rural',\n",
       "       u'LL_Mean_Number_Of_Children_Surviving_To_Women_Aged_15_49_Years_Rural',\n",
       "       u'AA_Children_12_23_Months_Total',\n",
       "       u'AA_Currently_Married_Women_Aged_15_49_Years_Urban',\n",
       "       u'LL_Mean_Number_Of_Children_Ever_Born_To_Women_Aged_15_49_Years_Total',\n",
       "       u'LL_Mean_Number_Of_Children_Ever_Born_To_Women_Aged_15_49_Years_Rural'],\n",
       "      dtype='object')"
      ]
     },
     "execution_count": 11,
     "metadata": {},
     "output_type": "execute_result"
    }
   ],
   "source": [
    "sorted_labels[-100:]"
   ]
  },
  {
   "cell_type": "code",
   "execution_count": null,
   "metadata": {
    "collapsed": true
   },
   "outputs": [],
   "source": []
  }
 ],
 "metadata": {
  "anaconda-cloud": {},
  "kernelspec": {
   "display_name": "Python 2",
   "language": "python",
   "name": "python2"
  },
  "language_info": {
   "codemirror_mode": {
    "name": "ipython",
    "version": 2
   },
   "file_extension": ".py",
   "mimetype": "text/x-python",
   "name": "python",
   "nbconvert_exporter": "python",
   "pygments_lexer": "ipython2",
   "version": "2.7.12"
  }
 },
 "nbformat": 4,
 "nbformat_minor": 2
}
